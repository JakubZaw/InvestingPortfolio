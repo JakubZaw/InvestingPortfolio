{
  "nbformat": 4,
  "nbformat_minor": 0,
  "metadata": {
    "colab": {
      "name": "BasicPortfolio.ipynb",
      "provenance": [],
      "collapsed_sections": []
    },
    "kernelspec": {
      "name": "python3",
      "display_name": "Python 3"
    }
  },
  "cells": [
    {
      "cell_type": "code",
      "metadata": {
        "id": "VYuAj84QQCgx",
        "colab_type": "code",
        "colab": {}
      },
      "source": [
        "import pandas as pd\n",
        "import pandas_datareader as pdr\n",
        "import datetime as dt\n",
        "import matplotlib.pyplot as plt\n",
        "import numpy as np\n",
        "import seaborn as sns"
      ],
      "execution_count": null,
      "outputs": []
    },
    {
      "cell_type": "markdown",
      "metadata": {
        "id": "OIDqg_2j0D00",
        "colab_type": "text"
      },
      "source": [
        "Creating a table for Premier Oil from 01/01/2018 to 08/08/2020. The table holds information about stock prices on each day."
      ]
    },
    {
      "cell_type": "code",
      "metadata": {
        "id": "1g_hBHikQo51",
        "colab_type": "code",
        "colab": {}
      },
      "source": [
        "df = pdr.get_data_yahoo('PMO.L', start=dt.datetime(2018,1,1),end=dt.datetime(2020,8,8))"
      ],
      "execution_count": null,
      "outputs": []
    },
    {
      "cell_type": "code",
      "metadata": {
        "id": "UA0BAU5tQqJx",
        "colab_type": "code",
        "colab": {
          "base_uri": "https://localhost:8080/",
          "height": 434
        },
        "outputId": "2b0f0714-fde0-42d4-f7a2-ac62b25be17d"
      },
      "source": [
        "df"
      ],
      "execution_count": null,
      "outputs": [
        {
          "output_type": "execute_result",
          "data": {
            "text/html": [
              "<div>\n",
              "<style scoped>\n",
              "    .dataframe tbody tr th:only-of-type {\n",
              "        vertical-align: middle;\n",
              "    }\n",
              "\n",
              "    .dataframe tbody tr th {\n",
              "        vertical-align: top;\n",
              "    }\n",
              "\n",
              "    .dataframe thead th {\n",
              "        text-align: right;\n",
              "    }\n",
              "</style>\n",
              "<table border=\"1\" class=\"dataframe\">\n",
              "  <thead>\n",
              "    <tr style=\"text-align: right;\">\n",
              "      <th></th>\n",
              "      <th>High</th>\n",
              "      <th>Low</th>\n",
              "      <th>Open</th>\n",
              "      <th>Close</th>\n",
              "      <th>Volume</th>\n",
              "      <th>Adj Close</th>\n",
              "    </tr>\n",
              "    <tr>\n",
              "      <th>Date</th>\n",
              "      <th></th>\n",
              "      <th></th>\n",
              "      <th></th>\n",
              "      <th></th>\n",
              "      <th></th>\n",
              "      <th></th>\n",
              "    </tr>\n",
              "  </thead>\n",
              "  <tbody>\n",
              "    <tr>\n",
              "      <th>2018-01-02</th>\n",
              "      <td>78.500000</td>\n",
              "      <td>76.349998</td>\n",
              "      <td>78.500000</td>\n",
              "      <td>76.400002</td>\n",
              "      <td>8300547.0</td>\n",
              "      <td>76.400002</td>\n",
              "    </tr>\n",
              "    <tr>\n",
              "      <th>2018-01-03</th>\n",
              "      <td>80.550003</td>\n",
              "      <td>76.599998</td>\n",
              "      <td>77.000000</td>\n",
              "      <td>79.300003</td>\n",
              "      <td>7362842.0</td>\n",
              "      <td>79.300003</td>\n",
              "    </tr>\n",
              "    <tr>\n",
              "      <th>2018-01-04</th>\n",
              "      <td>86.300003</td>\n",
              "      <td>81.000000</td>\n",
              "      <td>81.000000</td>\n",
              "      <td>84.000000</td>\n",
              "      <td>18324649.0</td>\n",
              "      <td>84.000000</td>\n",
              "    </tr>\n",
              "    <tr>\n",
              "      <th>2018-01-05</th>\n",
              "      <td>86.000000</td>\n",
              "      <td>83.750000</td>\n",
              "      <td>84.699997</td>\n",
              "      <td>85.599998</td>\n",
              "      <td>11143691.0</td>\n",
              "      <td>85.599998</td>\n",
              "    </tr>\n",
              "    <tr>\n",
              "      <th>2018-01-08</th>\n",
              "      <td>90.300003</td>\n",
              "      <td>86.000000</td>\n",
              "      <td>86.800003</td>\n",
              "      <td>89.000000</td>\n",
              "      <td>15606715.0</td>\n",
              "      <td>89.000000</td>\n",
              "    </tr>\n",
              "    <tr>\n",
              "      <th>...</th>\n",
              "      <td>...</td>\n",
              "      <td>...</td>\n",
              "      <td>...</td>\n",
              "      <td>...</td>\n",
              "      <td>...</td>\n",
              "      <td>...</td>\n",
              "    </tr>\n",
              "    <tr>\n",
              "      <th>2020-08-03</th>\n",
              "      <td>35.601002</td>\n",
              "      <td>34.020000</td>\n",
              "      <td>35.380001</td>\n",
              "      <td>34.910000</td>\n",
              "      <td>6493251.0</td>\n",
              "      <td>34.910000</td>\n",
              "    </tr>\n",
              "    <tr>\n",
              "      <th>2020-08-04</th>\n",
              "      <td>35.980000</td>\n",
              "      <td>34.279999</td>\n",
              "      <td>35.000000</td>\n",
              "      <td>35.450001</td>\n",
              "      <td>5905438.0</td>\n",
              "      <td>35.450001</td>\n",
              "    </tr>\n",
              "    <tr>\n",
              "      <th>2020-08-05</th>\n",
              "      <td>37.169998</td>\n",
              "      <td>35.629002</td>\n",
              "      <td>35.900002</td>\n",
              "      <td>36.799999</td>\n",
              "      <td>8647149.0</td>\n",
              "      <td>36.799999</td>\n",
              "    </tr>\n",
              "    <tr>\n",
              "      <th>2020-08-06</th>\n",
              "      <td>37.490002</td>\n",
              "      <td>35.000000</td>\n",
              "      <td>36.799999</td>\n",
              "      <td>35.639999</td>\n",
              "      <td>7652404.0</td>\n",
              "      <td>35.639999</td>\n",
              "    </tr>\n",
              "    <tr>\n",
              "      <th>2020-08-07</th>\n",
              "      <td>35.980000</td>\n",
              "      <td>34.450001</td>\n",
              "      <td>35.000000</td>\n",
              "      <td>34.660000</td>\n",
              "      <td>4808544.0</td>\n",
              "      <td>34.660000</td>\n",
              "    </tr>\n",
              "  </tbody>\n",
              "</table>\n",
              "<p>658 rows × 6 columns</p>\n",
              "</div>"
            ],
            "text/plain": [
              "                 High        Low       Open      Close      Volume  Adj Close\n",
              "Date                                                                         \n",
              "2018-01-02  78.500000  76.349998  78.500000  76.400002   8300547.0  76.400002\n",
              "2018-01-03  80.550003  76.599998  77.000000  79.300003   7362842.0  79.300003\n",
              "2018-01-04  86.300003  81.000000  81.000000  84.000000  18324649.0  84.000000\n",
              "2018-01-05  86.000000  83.750000  84.699997  85.599998  11143691.0  85.599998\n",
              "2018-01-08  90.300003  86.000000  86.800003  89.000000  15606715.0  89.000000\n",
              "...               ...        ...        ...        ...         ...        ...\n",
              "2020-08-03  35.601002  34.020000  35.380001  34.910000   6493251.0  34.910000\n",
              "2020-08-04  35.980000  34.279999  35.000000  35.450001   5905438.0  35.450001\n",
              "2020-08-05  37.169998  35.629002  35.900002  36.799999   8647149.0  36.799999\n",
              "2020-08-06  37.490002  35.000000  36.799999  35.639999   7652404.0  35.639999\n",
              "2020-08-07  35.980000  34.450001  35.000000  34.660000   4808544.0  34.660000\n",
              "\n",
              "[658 rows x 6 columns]"
            ]
          },
          "metadata": {
            "tags": []
          },
          "execution_count": 16
        }
      ]
    },
    {
      "cell_type": "markdown",
      "metadata": {
        "id": "GcUS3p8pReuV",
        "colab_type": "text"
      },
      "source": [
        "Creating a table that holds only one row for each month (last day of the month)."
      ]
    },
    {
      "cell_type": "code",
      "metadata": {
        "id": "_6iXjQi_Qp-9",
        "colab_type": "code",
        "colab": {
          "base_uri": "https://localhost:8080/",
          "height": 1000
        },
        "outputId": "d1e79c74-cf15-4e32-fd1e-4470e93ce214"
      },
      "source": [
        "df.resample('M').last()"
      ],
      "execution_count": null,
      "outputs": [
        {
          "output_type": "execute_result",
          "data": {
            "text/html": [
              "<div>\n",
              "<style scoped>\n",
              "    .dataframe tbody tr th:only-of-type {\n",
              "        vertical-align: middle;\n",
              "    }\n",
              "\n",
              "    .dataframe tbody tr th {\n",
              "        vertical-align: top;\n",
              "    }\n",
              "\n",
              "    .dataframe thead th {\n",
              "        text-align: right;\n",
              "    }\n",
              "</style>\n",
              "<table border=\"1\" class=\"dataframe\">\n",
              "  <thead>\n",
              "    <tr style=\"text-align: right;\">\n",
              "      <th></th>\n",
              "      <th>High</th>\n",
              "      <th>Low</th>\n",
              "      <th>Open</th>\n",
              "      <th>Close</th>\n",
              "      <th>Volume</th>\n",
              "      <th>Adj Close</th>\n",
              "    </tr>\n",
              "    <tr>\n",
              "      <th>Date</th>\n",
              "      <th></th>\n",
              "      <th></th>\n",
              "      <th></th>\n",
              "      <th></th>\n",
              "      <th></th>\n",
              "      <th></th>\n",
              "    </tr>\n",
              "  </thead>\n",
              "  <tbody>\n",
              "    <tr>\n",
              "      <th>2018-01-31</th>\n",
              "      <td>84.199997</td>\n",
              "      <td>80.400002</td>\n",
              "      <td>82.000000</td>\n",
              "      <td>82.699997</td>\n",
              "      <td>9349996.0</td>\n",
              "      <td>82.699997</td>\n",
              "    </tr>\n",
              "    <tr>\n",
              "      <th>2018-02-28</th>\n",
              "      <td>75.900002</td>\n",
              "      <td>72.750000</td>\n",
              "      <td>75.000000</td>\n",
              "      <td>72.750000</td>\n",
              "      <td>6521926.0</td>\n",
              "      <td>72.750000</td>\n",
              "    </tr>\n",
              "    <tr>\n",
              "      <th>2018-03-31</th>\n",
              "      <td>71.099998</td>\n",
              "      <td>68.599998</td>\n",
              "      <td>69.099998</td>\n",
              "      <td>69.199997</td>\n",
              "      <td>8738451.0</td>\n",
              "      <td>69.199997</td>\n",
              "    </tr>\n",
              "    <tr>\n",
              "      <th>2018-04-30</th>\n",
              "      <td>96.099998</td>\n",
              "      <td>92.550003</td>\n",
              "      <td>96.099998</td>\n",
              "      <td>94.750000</td>\n",
              "      <td>10904842.0</td>\n",
              "      <td>94.750000</td>\n",
              "    </tr>\n",
              "    <tr>\n",
              "      <th>2018-05-31</th>\n",
              "      <td>119.900002</td>\n",
              "      <td>112.099998</td>\n",
              "      <td>112.099998</td>\n",
              "      <td>119.900002</td>\n",
              "      <td>26092017.0</td>\n",
              "      <td>119.900002</td>\n",
              "    </tr>\n",
              "    <tr>\n",
              "      <th>2018-06-30</th>\n",
              "      <td>130.000000</td>\n",
              "      <td>123.599998</td>\n",
              "      <td>128.500000</td>\n",
              "      <td>128.699997</td>\n",
              "      <td>12506379.0</td>\n",
              "      <td>128.699997</td>\n",
              "    </tr>\n",
              "    <tr>\n",
              "      <th>2018-07-31</th>\n",
              "      <td>130.899994</td>\n",
              "      <td>126.000000</td>\n",
              "      <td>126.000000</td>\n",
              "      <td>128.000000</td>\n",
              "      <td>8875045.0</td>\n",
              "      <td>128.000000</td>\n",
              "    </tr>\n",
              "    <tr>\n",
              "      <th>2018-08-31</th>\n",
              "      <td>124.800003</td>\n",
              "      <td>121.000000</td>\n",
              "      <td>121.099998</td>\n",
              "      <td>124.000000</td>\n",
              "      <td>10171951.0</td>\n",
              "      <td>124.000000</td>\n",
              "    </tr>\n",
              "    <tr>\n",
              "      <th>2018-09-30</th>\n",
              "      <td>139.600006</td>\n",
              "      <td>135.000000</td>\n",
              "      <td>137.399994</td>\n",
              "      <td>138.500000</td>\n",
              "      <td>7277711.0</td>\n",
              "      <td>138.500000</td>\n",
              "    </tr>\n",
              "    <tr>\n",
              "      <th>2018-10-31</th>\n",
              "      <td>109.000000</td>\n",
              "      <td>103.800003</td>\n",
              "      <td>103.800003</td>\n",
              "      <td>108.000000</td>\n",
              "      <td>10483584.0</td>\n",
              "      <td>108.000000</td>\n",
              "    </tr>\n",
              "    <tr>\n",
              "      <th>2018-11-30</th>\n",
              "      <td>71.949997</td>\n",
              "      <td>69.650002</td>\n",
              "      <td>70.000000</td>\n",
              "      <td>70.650002</td>\n",
              "      <td>9798704.0</td>\n",
              "      <td>70.650002</td>\n",
              "    </tr>\n",
              "    <tr>\n",
              "      <th>2018-12-31</th>\n",
              "      <td>66.550003</td>\n",
              "      <td>60.700001</td>\n",
              "      <td>61.500000</td>\n",
              "      <td>66.550003</td>\n",
              "      <td>8020073.0</td>\n",
              "      <td>66.550003</td>\n",
              "    </tr>\n",
              "    <tr>\n",
              "      <th>2019-01-31</th>\n",
              "      <td>75.900002</td>\n",
              "      <td>72.750000</td>\n",
              "      <td>73.250000</td>\n",
              "      <td>73.949997</td>\n",
              "      <td>8270328.0</td>\n",
              "      <td>73.949997</td>\n",
              "    </tr>\n",
              "    <tr>\n",
              "      <th>2019-02-28</th>\n",
              "      <td>76.500000</td>\n",
              "      <td>73.250000</td>\n",
              "      <td>75.500000</td>\n",
              "      <td>74.199997</td>\n",
              "      <td>10287525.0</td>\n",
              "      <td>74.199997</td>\n",
              "    </tr>\n",
              "    <tr>\n",
              "      <th>2019-03-31</th>\n",
              "      <td>95.099998</td>\n",
              "      <td>91.500000</td>\n",
              "      <td>91.500000</td>\n",
              "      <td>93.949997</td>\n",
              "      <td>9532754.0</td>\n",
              "      <td>93.949997</td>\n",
              "    </tr>\n",
              "    <tr>\n",
              "      <th>2019-04-30</th>\n",
              "      <td>102.849998</td>\n",
              "      <td>97.699997</td>\n",
              "      <td>98.040001</td>\n",
              "      <td>99.779999</td>\n",
              "      <td>7639414.0</td>\n",
              "      <td>99.779999</td>\n",
              "    </tr>\n",
              "    <tr>\n",
              "      <th>2019-05-31</th>\n",
              "      <td>82.540001</td>\n",
              "      <td>77.360001</td>\n",
              "      <td>82.540001</td>\n",
              "      <td>78.739998</td>\n",
              "      <td>19017719.0</td>\n",
              "      <td>78.739998</td>\n",
              "    </tr>\n",
              "    <tr>\n",
              "      <th>2019-06-30</th>\n",
              "      <td>79.639999</td>\n",
              "      <td>76.320000</td>\n",
              "      <td>79.639999</td>\n",
              "      <td>76.900002</td>\n",
              "      <td>8335631.0</td>\n",
              "      <td>76.900002</td>\n",
              "    </tr>\n",
              "    <tr>\n",
              "      <th>2019-07-31</th>\n",
              "      <td>84.680000</td>\n",
              "      <td>80.120003</td>\n",
              "      <td>80.120003</td>\n",
              "      <td>84.040001</td>\n",
              "      <td>12079495.0</td>\n",
              "      <td>84.040001</td>\n",
              "    </tr>\n",
              "    <tr>\n",
              "      <th>2019-08-31</th>\n",
              "      <td>81.559998</td>\n",
              "      <td>78.059998</td>\n",
              "      <td>79.360001</td>\n",
              "      <td>80.760002</td>\n",
              "      <td>8900197.0</td>\n",
              "      <td>80.760002</td>\n",
              "    </tr>\n",
              "    <tr>\n",
              "      <th>2019-09-30</th>\n",
              "      <td>77.940002</td>\n",
              "      <td>74.860001</td>\n",
              "      <td>76.400002</td>\n",
              "      <td>77.940002</td>\n",
              "      <td>6239838.0</td>\n",
              "      <td>77.940002</td>\n",
              "    </tr>\n",
              "    <tr>\n",
              "      <th>2019-10-31</th>\n",
              "      <td>84.620003</td>\n",
              "      <td>82.549004</td>\n",
              "      <td>83.820000</td>\n",
              "      <td>82.699997</td>\n",
              "      <td>5070561.0</td>\n",
              "      <td>82.699997</td>\n",
              "    </tr>\n",
              "    <tr>\n",
              "      <th>2019-11-30</th>\n",
              "      <td>89.160004</td>\n",
              "      <td>86.360001</td>\n",
              "      <td>87.239998</td>\n",
              "      <td>86.860001</td>\n",
              "      <td>2810380.0</td>\n",
              "      <td>86.860001</td>\n",
              "    </tr>\n",
              "    <tr>\n",
              "      <th>2019-12-31</th>\n",
              "      <td>99.650002</td>\n",
              "      <td>96.120003</td>\n",
              "      <td>96.120003</td>\n",
              "      <td>98.199997</td>\n",
              "      <td>1196763.0</td>\n",
              "      <td>98.199997</td>\n",
              "    </tr>\n",
              "    <tr>\n",
              "      <th>2020-01-31</th>\n",
              "      <td>108.000000</td>\n",
              "      <td>99.796997</td>\n",
              "      <td>108.000000</td>\n",
              "      <td>100.349998</td>\n",
              "      <td>9713670.0</td>\n",
              "      <td>100.349998</td>\n",
              "    </tr>\n",
              "    <tr>\n",
              "      <th>2020-02-29</th>\n",
              "      <td>82.339996</td>\n",
              "      <td>75.120003</td>\n",
              "      <td>82.339996</td>\n",
              "      <td>77.639999</td>\n",
              "      <td>18358245.0</td>\n",
              "      <td>77.639999</td>\n",
              "    </tr>\n",
              "    <tr>\n",
              "      <th>2020-03-31</th>\n",
              "      <td>19.510000</td>\n",
              "      <td>15.500000</td>\n",
              "      <td>18.000000</td>\n",
              "      <td>17.235001</td>\n",
              "      <td>21435996.0</td>\n",
              "      <td>17.235001</td>\n",
              "    </tr>\n",
              "    <tr>\n",
              "      <th>2020-04-30</th>\n",
              "      <td>34.000000</td>\n",
              "      <td>28.230000</td>\n",
              "      <td>32.000000</td>\n",
              "      <td>32.630001</td>\n",
              "      <td>45680981.0</td>\n",
              "      <td>32.630001</td>\n",
              "    </tr>\n",
              "    <tr>\n",
              "      <th>2020-05-31</th>\n",
              "      <td>30.863001</td>\n",
              "      <td>26.690001</td>\n",
              "      <td>30.500000</td>\n",
              "      <td>26.690001</td>\n",
              "      <td>49515464.0</td>\n",
              "      <td>26.690001</td>\n",
              "    </tr>\n",
              "    <tr>\n",
              "      <th>2020-06-30</th>\n",
              "      <td>51.619999</td>\n",
              "      <td>47.869999</td>\n",
              "      <td>51.000000</td>\n",
              "      <td>51.540001</td>\n",
              "      <td>16024327.0</td>\n",
              "      <td>51.540001</td>\n",
              "    </tr>\n",
              "    <tr>\n",
              "      <th>2020-07-31</th>\n",
              "      <td>35.680000</td>\n",
              "      <td>32.958000</td>\n",
              "      <td>34.000000</td>\n",
              "      <td>35.310001</td>\n",
              "      <td>10316648.0</td>\n",
              "      <td>35.310001</td>\n",
              "    </tr>\n",
              "    <tr>\n",
              "      <th>2020-08-31</th>\n",
              "      <td>35.980000</td>\n",
              "      <td>34.450001</td>\n",
              "      <td>35.000000</td>\n",
              "      <td>34.660000</td>\n",
              "      <td>4808544.0</td>\n",
              "      <td>34.660000</td>\n",
              "    </tr>\n",
              "  </tbody>\n",
              "</table>\n",
              "</div>"
            ],
            "text/plain": [
              "                  High         Low  ...      Volume   Adj Close\n",
              "Date                                ...                        \n",
              "2018-01-31   84.199997   80.400002  ...   9349996.0   82.699997\n",
              "2018-02-28   75.900002   72.750000  ...   6521926.0   72.750000\n",
              "2018-03-31   71.099998   68.599998  ...   8738451.0   69.199997\n",
              "2018-04-30   96.099998   92.550003  ...  10904842.0   94.750000\n",
              "2018-05-31  119.900002  112.099998  ...  26092017.0  119.900002\n",
              "2018-06-30  130.000000  123.599998  ...  12506379.0  128.699997\n",
              "2018-07-31  130.899994  126.000000  ...   8875045.0  128.000000\n",
              "2018-08-31  124.800003  121.000000  ...  10171951.0  124.000000\n",
              "2018-09-30  139.600006  135.000000  ...   7277711.0  138.500000\n",
              "2018-10-31  109.000000  103.800003  ...  10483584.0  108.000000\n",
              "2018-11-30   71.949997   69.650002  ...   9798704.0   70.650002\n",
              "2018-12-31   66.550003   60.700001  ...   8020073.0   66.550003\n",
              "2019-01-31   75.900002   72.750000  ...   8270328.0   73.949997\n",
              "2019-02-28   76.500000   73.250000  ...  10287525.0   74.199997\n",
              "2019-03-31   95.099998   91.500000  ...   9532754.0   93.949997\n",
              "2019-04-30  102.849998   97.699997  ...   7639414.0   99.779999\n",
              "2019-05-31   82.540001   77.360001  ...  19017719.0   78.739998\n",
              "2019-06-30   79.639999   76.320000  ...   8335631.0   76.900002\n",
              "2019-07-31   84.680000   80.120003  ...  12079495.0   84.040001\n",
              "2019-08-31   81.559998   78.059998  ...   8900197.0   80.760002\n",
              "2019-09-30   77.940002   74.860001  ...   6239838.0   77.940002\n",
              "2019-10-31   84.620003   82.549004  ...   5070561.0   82.699997\n",
              "2019-11-30   89.160004   86.360001  ...   2810380.0   86.860001\n",
              "2019-12-31   99.650002   96.120003  ...   1196763.0   98.199997\n",
              "2020-01-31  108.000000   99.796997  ...   9713670.0  100.349998\n",
              "2020-02-29   82.339996   75.120003  ...  18358245.0   77.639999\n",
              "2020-03-31   19.510000   15.500000  ...  21435996.0   17.235001\n",
              "2020-04-30   34.000000   28.230000  ...  45680981.0   32.630001\n",
              "2020-05-31   30.863001   26.690001  ...  49515464.0   26.690001\n",
              "2020-06-30   51.619999   47.869999  ...  16024327.0   51.540001\n",
              "2020-07-31   35.680000   32.958000  ...  10316648.0   35.310001\n",
              "2020-08-31   35.980000   34.450001  ...   4808544.0   34.660000\n",
              "\n",
              "[32 rows x 6 columns]"
            ]
          },
          "metadata": {
            "tags": []
          },
          "execution_count": 17
        }
      ]
    },
    {
      "cell_type": "code",
      "metadata": {
        "id": "xzCl3tgEQpqi",
        "colab_type": "code",
        "colab": {
          "base_uri": "https://localhost:8080/",
          "height": 234
        },
        "outputId": "64b4377a-019d-416f-d150-b4529d38c603"
      },
      "source": [
        "df['Adj Close']"
      ],
      "execution_count": null,
      "outputs": [
        {
          "output_type": "execute_result",
          "data": {
            "text/plain": [
              "Date\n",
              "2018-01-02    76.400002\n",
              "2018-01-03    79.300003\n",
              "2018-01-04    84.000000\n",
              "2018-01-05    85.599998\n",
              "2018-01-08    89.000000\n",
              "                ...    \n",
              "2020-08-03    34.910000\n",
              "2020-08-04    35.450001\n",
              "2020-08-05    36.799999\n",
              "2020-08-06    35.639999\n",
              "2020-08-07    34.660000\n",
              "Name: Adj Close, Length: 658, dtype: float64"
            ]
          },
          "metadata": {
            "tags": []
          },
          "execution_count": 18
        }
      ]
    },
    {
      "cell_type": "markdown",
      "metadata": {
        "id": "ouP2VqIr0k3y",
        "colab_type": "text"
      },
      "source": [
        "Plot for Premier Oil prices from from 01/01/2018 to 08/08/2020."
      ]
    },
    {
      "cell_type": "code",
      "metadata": {
        "id": "QGFNY63-W26y",
        "colab_type": "code",
        "colab": {
          "base_uri": "https://localhost:8080/",
          "height": 310
        },
        "outputId": "e3dad73f-3167-4f2c-e9f7-406966f65943"
      },
      "source": [
        "df['Adj Close'].plot(grid=True, title='Ceny Premier Oil')"
      ],
      "execution_count": null,
      "outputs": [
        {
          "output_type": "execute_result",
          "data": {
            "text/plain": [
              "<matplotlib.axes._subplots.AxesSubplot at 0x7f0708274cf8>"
            ]
          },
          "metadata": {
            "tags": []
          },
          "execution_count": 28
        },
        {
          "output_type": "display_data",
          "data": {
            "image/png": "[encoded data removed]",
            "text/plain": [
              "<Figure size 432x288 with 1 Axes>"
            ]
          },
          "metadata": {
            "tags": [],
            "needs_background": "light"
          }
        }
      ]
    },
    {
      "cell_type": "markdown",
      "metadata": {
        "id": "uzWnxNpm0uSD",
        "colab_type": "text"
      },
      "source": [
        "Adding percentage change column to the table (helps to understand the changes better)."
      ]
    },
    {
      "cell_type": "code",
      "metadata": {
        "id": "Ylzg25irX_kC",
        "colab_type": "code",
        "colab": {}
      },
      "source": [
        "df['% change']=df['Adj Close'].pct_change()"
      ],
      "execution_count": null,
      "outputs": []
    },
    {
      "cell_type": "code",
      "metadata": {
        "id": "7agN9WZDZvK0",
        "colab_type": "code",
        "colab": {
          "base_uri": "https://localhost:8080/",
          "height": 434
        },
        "outputId": "6c3d50a9-12ee-49be-f021-e669f26b1d04"
      },
      "source": [
        "df"
      ],
      "execution_count": null,
      "outputs": [
        {
          "output_type": "execute_result",
          "data": {
            "text/html": [
              "<div>\n",
              "<style scoped>\n",
              "    .dataframe tbody tr th:only-of-type {\n",
              "        vertical-align: middle;\n",
              "    }\n",
              "\n",
              "    .dataframe tbody tr th {\n",
              "        vertical-align: top;\n",
              "    }\n",
              "\n",
              "    .dataframe thead th {\n",
              "        text-align: right;\n",
              "    }\n",
              "</style>\n",
              "<table border=\"1\" class=\"dataframe\">\n",
              "  <thead>\n",
              "    <tr style=\"text-align: right;\">\n",
              "      <th></th>\n",
              "      <th>High</th>\n",
              "      <th>Low</th>\n",
              "      <th>Open</th>\n",
              "      <th>Close</th>\n",
              "      <th>Volume</th>\n",
              "      <th>Adj Close</th>\n",
              "      <th>% change</th>\n",
              "    </tr>\n",
              "    <tr>\n",
              "      <th>Date</th>\n",
              "      <th></th>\n",
              "      <th></th>\n",
              "      <th></th>\n",
              "      <th></th>\n",
              "      <th></th>\n",
              "      <th></th>\n",
              "      <th></th>\n",
              "    </tr>\n",
              "  </thead>\n",
              "  <tbody>\n",
              "    <tr>\n",
              "      <th>2018-01-02</th>\n",
              "      <td>78.500000</td>\n",
              "      <td>76.349998</td>\n",
              "      <td>78.500000</td>\n",
              "      <td>76.400002</td>\n",
              "      <td>8300547.0</td>\n",
              "      <td>76.400002</td>\n",
              "      <td>NaN</td>\n",
              "    </tr>\n",
              "    <tr>\n",
              "      <th>2018-01-03</th>\n",
              "      <td>80.550003</td>\n",
              "      <td>76.599998</td>\n",
              "      <td>77.000000</td>\n",
              "      <td>79.300003</td>\n",
              "      <td>7362842.0</td>\n",
              "      <td>79.300003</td>\n",
              "      <td>0.037958</td>\n",
              "    </tr>\n",
              "    <tr>\n",
              "      <th>2018-01-04</th>\n",
              "      <td>86.300003</td>\n",
              "      <td>81.000000</td>\n",
              "      <td>81.000000</td>\n",
              "      <td>84.000000</td>\n",
              "      <td>18324649.0</td>\n",
              "      <td>84.000000</td>\n",
              "      <td>0.059269</td>\n",
              "    </tr>\n",
              "    <tr>\n",
              "      <th>2018-01-05</th>\n",
              "      <td>86.000000</td>\n",
              "      <td>83.750000</td>\n",
              "      <td>84.699997</td>\n",
              "      <td>85.599998</td>\n",
              "      <td>11143691.0</td>\n",
              "      <td>85.599998</td>\n",
              "      <td>0.019048</td>\n",
              "    </tr>\n",
              "    <tr>\n",
              "      <th>2018-01-08</th>\n",
              "      <td>90.300003</td>\n",
              "      <td>86.000000</td>\n",
              "      <td>86.800003</td>\n",
              "      <td>89.000000</td>\n",
              "      <td>15606715.0</td>\n",
              "      <td>89.000000</td>\n",
              "      <td>0.039720</td>\n",
              "    </tr>\n",
              "    <tr>\n",
              "      <th>...</th>\n",
              "      <td>...</td>\n",
              "      <td>...</td>\n",
              "      <td>...</td>\n",
              "      <td>...</td>\n",
              "      <td>...</td>\n",
              "      <td>...</td>\n",
              "      <td>...</td>\n",
              "    </tr>\n",
              "    <tr>\n",
              "      <th>2020-08-03</th>\n",
              "      <td>35.601002</td>\n",
              "      <td>34.020000</td>\n",
              "      <td>35.380001</td>\n",
              "      <td>34.910000</td>\n",
              "      <td>6493251.0</td>\n",
              "      <td>34.910000</td>\n",
              "      <td>-0.011328</td>\n",
              "    </tr>\n",
              "    <tr>\n",
              "      <th>2020-08-04</th>\n",
              "      <td>35.980000</td>\n",
              "      <td>34.279999</td>\n",
              "      <td>35.000000</td>\n",
              "      <td>35.450001</td>\n",
              "      <td>5905438.0</td>\n",
              "      <td>35.450001</td>\n",
              "      <td>0.015468</td>\n",
              "    </tr>\n",
              "    <tr>\n",
              "      <th>2020-08-05</th>\n",
              "      <td>37.169998</td>\n",
              "      <td>35.629002</td>\n",
              "      <td>35.900002</td>\n",
              "      <td>36.799999</td>\n",
              "      <td>8647149.0</td>\n",
              "      <td>36.799999</td>\n",
              "      <td>0.038082</td>\n",
              "    </tr>\n",
              "    <tr>\n",
              "      <th>2020-08-06</th>\n",
              "      <td>37.490002</td>\n",
              "      <td>35.000000</td>\n",
              "      <td>36.799999</td>\n",
              "      <td>35.639999</td>\n",
              "      <td>7652404.0</td>\n",
              "      <td>35.639999</td>\n",
              "      <td>-0.031522</td>\n",
              "    </tr>\n",
              "    <tr>\n",
              "      <th>2020-08-07</th>\n",
              "      <td>35.980000</td>\n",
              "      <td>34.450001</td>\n",
              "      <td>35.000000</td>\n",
              "      <td>34.660000</td>\n",
              "      <td>4808544.0</td>\n",
              "      <td>34.660000</td>\n",
              "      <td>-0.027497</td>\n",
              "    </tr>\n",
              "  </tbody>\n",
              "</table>\n",
              "<p>658 rows × 7 columns</p>\n",
              "</div>"
            ],
            "text/plain": [
              "                 High        Low       Open  ...      Volume  Adj Close  % change\n",
              "Date                                         ...                                 \n",
              "2018-01-02  78.500000  76.349998  78.500000  ...   8300547.0  76.400002       NaN\n",
              "2018-01-03  80.550003  76.599998  77.000000  ...   7362842.0  79.300003  0.037958\n",
              "2018-01-04  86.300003  81.000000  81.000000  ...  18324649.0  84.000000  0.059269\n",
              "2018-01-05  86.000000  83.750000  84.699997  ...  11143691.0  85.599998  0.019048\n",
              "2018-01-08  90.300003  86.000000  86.800003  ...  15606715.0  89.000000  0.039720\n",
              "...               ...        ...        ...  ...         ...        ...       ...\n",
              "2020-08-03  35.601002  34.020000  35.380001  ...   6493251.0  34.910000 -0.011328\n",
              "2020-08-04  35.980000  34.279999  35.000000  ...   5905438.0  35.450001  0.015468\n",
              "2020-08-05  37.169998  35.629002  35.900002  ...   8647149.0  36.799999  0.038082\n",
              "2020-08-06  37.490002  35.000000  36.799999  ...   7652404.0  35.639999 -0.031522\n",
              "2020-08-07  35.980000  34.450001  35.000000  ...   4808544.0  34.660000 -0.027497\n",
              "\n",
              "[658 rows x 7 columns]"
            ]
          },
          "metadata": {
            "tags": []
          },
          "execution_count": 31
        }
      ]
    },
    {
      "cell_type": "markdown",
      "metadata": {
        "id": "obThgukA00NT",
        "colab_type": "text"
      },
      "source": [
        "Creating histogram for Premier Oil percentage changes."
      ]
    },
    {
      "cell_type": "code",
      "metadata": {
        "id": "nGd2rFPvZ15K",
        "colab_type": "code",
        "colab": {
          "base_uri": "https://localhost:8080/",
          "height": 281
        },
        "outputId": "85fab414-ac97-4f82-d1b1-260b63310775"
      },
      "source": [
        "df['% change'].hist(bins=100)"
      ],
      "execution_count": null,
      "outputs": [
        {
          "output_type": "execute_result",
          "data": {
            "text/plain": [
              "<matplotlib.axes._subplots.AxesSubplot at 0x7f0706e31668>"
            ]
          },
          "metadata": {
            "tags": []
          },
          "execution_count": 34
        },
        {
          "output_type": "display_data",
          "data": {
            "image/png": "[encoded data removed]",
            "text/plain": [
              "<Figure size 432x288 with 1 Axes>"
            ]
          },
          "metadata": {
            "tags": [],
            "needs_background": "light"
          }
        }
      ]
    },
    {
      "cell_type": "code",
      "metadata": {
        "id": "6xhZHMAOZ2PA",
        "colab_type": "code",
        "colab": {
          "base_uri": "https://localhost:8080/",
          "height": 167
        },
        "outputId": "c862ff10-9166-4a20-94ee-7ed76a4a4975"
      },
      "source": [
        "df['% change'].describe()"
      ],
      "execution_count": null,
      "outputs": [
        {
          "output_type": "execute_result",
          "data": {
            "text/plain": [
              "count    657.000000\n",
              "mean       0.000501\n",
              "std        0.054412\n",
              "min       -0.574651\n",
              "25%       -0.022105\n",
              "50%        0.002471\n",
              "75%        0.023392\n",
              "max        0.267723\n",
              "Name: % change, dtype: float64"
            ]
          },
          "metadata": {
            "tags": []
          },
          "execution_count": 35
        }
      ]
    },
    {
      "cell_type": "markdown",
      "metadata": {
        "id": "ZanzBhnO07Tc",
        "colab_type": "text"
      },
      "source": [
        "Adding logarithmic change to the table (helps to understand changes better even better than percentage change)"
      ]
    },
    {
      "cell_type": "code",
      "metadata": {
        "id": "uYHtM7h9Z2e1",
        "colab_type": "code",
        "colab": {}
      },
      "source": [
        "df['log change']=np.log(df['Adj Close'].pct_change()+1)"
      ],
      "execution_count": null,
      "outputs": []
    },
    {
      "cell_type": "code",
      "metadata": {
        "id": "URDC299vaz1z",
        "colab_type": "code",
        "colab": {
          "base_uri": "https://localhost:8080/",
          "height": 434
        },
        "outputId": "923b4f90-d147-4439-e1f7-64eef7b6e101"
      },
      "source": [
        "df"
      ],
      "execution_count": null,
      "outputs": [
        {
          "output_type": "execute_result",
          "data": {
            "text/html": [
              "<div>\n",
              "<style scoped>\n",
              "    .dataframe tbody tr th:only-of-type {\n",
              "        vertical-align: middle;\n",
              "    }\n",
              "\n",
              "    .dataframe tbody tr th {\n",
              "        vertical-align: top;\n",
              "    }\n",
              "\n",
              "    .dataframe thead th {\n",
              "        text-align: right;\n",
              "    }\n",
              "</style>\n",
              "<table border=\"1\" class=\"dataframe\">\n",
              "  <thead>\n",
              "    <tr style=\"text-align: right;\">\n",
              "      <th></th>\n",
              "      <th>High</th>\n",
              "      <th>Low</th>\n",
              "      <th>Open</th>\n",
              "      <th>Close</th>\n",
              "      <th>Volume</th>\n",
              "      <th>Adj Close</th>\n",
              "      <th>% change</th>\n",
              "      <th>log change</th>\n",
              "    </tr>\n",
              "    <tr>\n",
              "      <th>Date</th>\n",
              "      <th></th>\n",
              "      <th></th>\n",
              "      <th></th>\n",
              "      <th></th>\n",
              "      <th></th>\n",
              "      <th></th>\n",
              "      <th></th>\n",
              "      <th></th>\n",
              "    </tr>\n",
              "  </thead>\n",
              "  <tbody>\n",
              "    <tr>\n",
              "      <th>2018-01-02</th>\n",
              "      <td>78.500000</td>\n",
              "      <td>76.349998</td>\n",
              "      <td>78.500000</td>\n",
              "      <td>76.400002</td>\n",
              "      <td>8300547.0</td>\n",
              "      <td>76.400002</td>\n",
              "      <td>NaN</td>\n",
              "      <td>NaN</td>\n",
              "    </tr>\n",
              "    <tr>\n",
              "      <th>2018-01-03</th>\n",
              "      <td>80.550003</td>\n",
              "      <td>76.599998</td>\n",
              "      <td>77.000000</td>\n",
              "      <td>79.300003</td>\n",
              "      <td>7362842.0</td>\n",
              "      <td>79.300003</td>\n",
              "      <td>0.037958</td>\n",
              "      <td>0.037255</td>\n",
              "    </tr>\n",
              "    <tr>\n",
              "      <th>2018-01-04</th>\n",
              "      <td>86.300003</td>\n",
              "      <td>81.000000</td>\n",
              "      <td>81.000000</td>\n",
              "      <td>84.000000</td>\n",
              "      <td>18324649.0</td>\n",
              "      <td>84.000000</td>\n",
              "      <td>0.059269</td>\n",
              "      <td>0.057579</td>\n",
              "    </tr>\n",
              "    <tr>\n",
              "      <th>2018-01-05</th>\n",
              "      <td>86.000000</td>\n",
              "      <td>83.750000</td>\n",
              "      <td>84.699997</td>\n",
              "      <td>85.599998</td>\n",
              "      <td>11143691.0</td>\n",
              "      <td>85.599998</td>\n",
              "      <td>0.019048</td>\n",
              "      <td>0.018868</td>\n",
              "    </tr>\n",
              "    <tr>\n",
              "      <th>2018-01-08</th>\n",
              "      <td>90.300003</td>\n",
              "      <td>86.000000</td>\n",
              "      <td>86.800003</td>\n",
              "      <td>89.000000</td>\n",
              "      <td>15606715.0</td>\n",
              "      <td>89.000000</td>\n",
              "      <td>0.039720</td>\n",
              "      <td>0.038951</td>\n",
              "    </tr>\n",
              "    <tr>\n",
              "      <th>...</th>\n",
              "      <td>...</td>\n",
              "      <td>...</td>\n",
              "      <td>...</td>\n",
              "      <td>...</td>\n",
              "      <td>...</td>\n",
              "      <td>...</td>\n",
              "      <td>...</td>\n",
              "      <td>...</td>\n",
              "    </tr>\n",
              "    <tr>\n",
              "      <th>2020-08-03</th>\n",
              "      <td>35.601002</td>\n",
              "      <td>34.020000</td>\n",
              "      <td>35.380001</td>\n",
              "      <td>34.910000</td>\n",
              "      <td>6493251.0</td>\n",
              "      <td>34.910000</td>\n",
              "      <td>-0.011328</td>\n",
              "      <td>-0.011393</td>\n",
              "    </tr>\n",
              "    <tr>\n",
              "      <th>2020-08-04</th>\n",
              "      <td>35.980000</td>\n",
              "      <td>34.279999</td>\n",
              "      <td>35.000000</td>\n",
              "      <td>35.450001</td>\n",
              "      <td>5905438.0</td>\n",
              "      <td>35.450001</td>\n",
              "      <td>0.015468</td>\n",
              "      <td>0.015350</td>\n",
              "    </tr>\n",
              "    <tr>\n",
              "      <th>2020-08-05</th>\n",
              "      <td>37.169998</td>\n",
              "      <td>35.629002</td>\n",
              "      <td>35.900002</td>\n",
              "      <td>36.799999</td>\n",
              "      <td>8647149.0</td>\n",
              "      <td>36.799999</td>\n",
              "      <td>0.038082</td>\n",
              "      <td>0.037375</td>\n",
              "    </tr>\n",
              "    <tr>\n",
              "      <th>2020-08-06</th>\n",
              "      <td>37.490002</td>\n",
              "      <td>35.000000</td>\n",
              "      <td>36.799999</td>\n",
              "      <td>35.639999</td>\n",
              "      <td>7652404.0</td>\n",
              "      <td>35.639999</td>\n",
              "      <td>-0.031522</td>\n",
              "      <td>-0.032029</td>\n",
              "    </tr>\n",
              "    <tr>\n",
              "      <th>2020-08-07</th>\n",
              "      <td>35.980000</td>\n",
              "      <td>34.450001</td>\n",
              "      <td>35.000000</td>\n",
              "      <td>34.660000</td>\n",
              "      <td>4808544.0</td>\n",
              "      <td>34.660000</td>\n",
              "      <td>-0.027497</td>\n",
              "      <td>-0.027882</td>\n",
              "    </tr>\n",
              "  </tbody>\n",
              "</table>\n",
              "<p>658 rows × 8 columns</p>\n",
              "</div>"
            ],
            "text/plain": [
              "                 High        Low       Open  ...  Adj Close  % change  log change\n",
              "Date                                         ...                                 \n",
              "2018-01-02  78.500000  76.349998  78.500000  ...  76.400002       NaN         NaN\n",
              "2018-01-03  80.550003  76.599998  77.000000  ...  79.300003  0.037958    0.037255\n",
              "2018-01-04  86.300003  81.000000  81.000000  ...  84.000000  0.059269    0.057579\n",
              "2018-01-05  86.000000  83.750000  84.699997  ...  85.599998  0.019048    0.018868\n",
              "2018-01-08  90.300003  86.000000  86.800003  ...  89.000000  0.039720    0.038951\n",
              "...               ...        ...        ...  ...        ...       ...         ...\n",
              "2020-08-03  35.601002  34.020000  35.380001  ...  34.910000 -0.011328   -0.011393\n",
              "2020-08-04  35.980000  34.279999  35.000000  ...  35.450001  0.015468    0.015350\n",
              "2020-08-05  37.169998  35.629002  35.900002  ...  36.799999  0.038082    0.037375\n",
              "2020-08-06  37.490002  35.000000  36.799999  ...  35.639999 -0.031522   -0.032029\n",
              "2020-08-07  35.980000  34.450001  35.000000  ...  34.660000 -0.027497   -0.027882\n",
              "\n",
              "[658 rows x 8 columns]"
            ]
          },
          "metadata": {
            "tags": []
          },
          "execution_count": 37
        }
      ]
    },
    {
      "cell_type": "markdown",
      "metadata": {
        "id": "IleRzIoJ1FLp",
        "colab_type": "text"
      },
      "source": [
        "Creating histogram for Premier Oil logarithmic changes."
      ]
    },
    {
      "cell_type": "code",
      "metadata": {
        "id": "blxLlgOta4tk",
        "colab_type": "code",
        "colab": {
          "base_uri": "https://localhost:8080/",
          "height": 281
        },
        "outputId": "abe1666a-568a-4e81-9dfd-09e0828cbd56"
      },
      "source": [
        "df['log change'].hist(bins=100)"
      ],
      "execution_count": null,
      "outputs": [
        {
          "output_type": "execute_result",
          "data": {
            "text/plain": [
              "<matplotlib.axes._subplots.AxesSubplot at 0x7f07069ceeb8>"
            ]
          },
          "metadata": {
            "tags": []
          },
          "execution_count": 39
        },
        {
          "output_type": "display_data",
          "data": {
            "image/png": "[encoded data removed]",
            "text/plain": [
              "<Figure size 432x288 with 1 Axes>"
            ]
          },
          "metadata": {
            "tags": [],
            "needs_background": "light"
          }
        }
      ]
    },
    {
      "cell_type": "code",
      "metadata": {
        "id": "oUOulNCsbBns",
        "colab_type": "code",
        "colab": {
          "base_uri": "https://localhost:8080/",
          "height": 167
        },
        "outputId": "dcdc2337-17f0-412f-b4d6-0bbabf54b7fe"
      },
      "source": [
        "df['log change'].describe()"
      ],
      "execution_count": null,
      "outputs": [
        {
          "output_type": "execute_result",
          "data": {
            "text/plain": [
              "count    657.000000\n",
              "mean      -0.001203\n",
              "std        0.061256\n",
              "min       -0.854845\n",
              "25%       -0.022353\n",
              "50%        0.002468\n",
              "75%        0.023122\n",
              "max        0.237222\n",
              "Name: log change, dtype: float64"
            ]
          },
          "metadata": {
            "tags": []
          },
          "execution_count": 40
        }
      ]
    },
    {
      "cell_type": "code",
      "metadata": {
        "id": "HJuH2KqJdqL7",
        "colab_type": "code",
        "colab": {}
      },
      "source": [
        "ftse100 = pdr.get_data_yahoo('UKX.PA', start=dt.datetime(2018,1,1),end=dt.datetime(2020,8,8))"
      ],
      "execution_count": null,
      "outputs": []
    },
    {
      "cell_type": "code",
      "metadata": {
        "id": "jO0-FfuKfQos",
        "colab_type": "code",
        "colab": {}
      },
      "source": [
        "ftse100['% change']=ftse100['Adj Close'].pct_change()"
      ],
      "execution_count": null,
      "outputs": []
    },
    {
      "cell_type": "code",
      "metadata": {
        "id": "MuOFh9ogfiKe",
        "colab_type": "code",
        "colab": {}
      },
      "source": [
        "ftse100['log change']=np.log(ftse100['Adj Close'].pct_change()+1)"
      ],
      "execution_count": null,
      "outputs": []
    },
    {
      "cell_type": "markdown",
      "metadata": {
        "id": "12IKGV1e1Rav",
        "colab_type": "text"
      },
      "source": [
        "Combining tables of two different stocks (Premier Oil and FTSE)."
      ]
    },
    {
      "cell_type": "code",
      "metadata": {
        "id": "3QjheZRoebED",
        "colab_type": "code",
        "colab": {}
      },
      "source": [
        "portfolio = pd.concat([df, ftse100], keys=['Oil', 'FTSE'], names = ['Ticker', 'Date'])"
      ],
      "execution_count": null,
      "outputs": []
    },
    {
      "cell_type": "code",
      "metadata": {
        "id": "8LOb2M60fBAJ",
        "colab_type": "code",
        "colab": {
          "base_uri": "https://localhost:8080/",
          "height": 434
        },
        "outputId": "54418ec8-5e3a-42a9-fde9-65a2abfc35bf"
      },
      "source": [
        "portfolio"
      ],
      "execution_count": null,
      "outputs": [
        {
          "output_type": "execute_result",
          "data": {
            "text/html": [
              "<div>\n",
              "<style scoped>\n",
              "    .dataframe tbody tr th:only-of-type {\n",
              "        vertical-align: middle;\n",
              "    }\n",
              "\n",
              "    .dataframe tbody tr th {\n",
              "        vertical-align: top;\n",
              "    }\n",
              "\n",
              "    .dataframe thead th {\n",
              "        text-align: right;\n",
              "    }\n",
              "</style>\n",
              "<table border=\"1\" class=\"dataframe\">\n",
              "  <thead>\n",
              "    <tr style=\"text-align: right;\">\n",
              "      <th></th>\n",
              "      <th></th>\n",
              "      <th>High</th>\n",
              "      <th>Low</th>\n",
              "      <th>Open</th>\n",
              "      <th>Close</th>\n",
              "      <th>Volume</th>\n",
              "      <th>Adj Close</th>\n",
              "      <th>% change</th>\n",
              "      <th>log change</th>\n",
              "    </tr>\n",
              "    <tr>\n",
              "      <th>Ticker</th>\n",
              "      <th>Date</th>\n",
              "      <th></th>\n",
              "      <th></th>\n",
              "      <th></th>\n",
              "      <th></th>\n",
              "      <th></th>\n",
              "      <th></th>\n",
              "      <th></th>\n",
              "      <th></th>\n",
              "    </tr>\n",
              "  </thead>\n",
              "  <tbody>\n",
              "    <tr>\n",
              "      <th rowspan=\"5\" valign=\"top\">Oil</th>\n",
              "      <th>2018-01-02</th>\n",
              "      <td>78.500000</td>\n",
              "      <td>76.349998</td>\n",
              "      <td>78.500000</td>\n",
              "      <td>76.400002</td>\n",
              "      <td>8300547.0</td>\n",
              "      <td>76.400002</td>\n",
              "      <td>NaN</td>\n",
              "      <td>NaN</td>\n",
              "    </tr>\n",
              "    <tr>\n",
              "      <th>2018-01-03</th>\n",
              "      <td>80.550003</td>\n",
              "      <td>76.599998</td>\n",
              "      <td>77.000000</td>\n",
              "      <td>79.300003</td>\n",
              "      <td>7362842.0</td>\n",
              "      <td>79.300003</td>\n",
              "      <td>0.037958</td>\n",
              "      <td>0.037255</td>\n",
              "    </tr>\n",
              "    <tr>\n",
              "      <th>2018-01-04</th>\n",
              "      <td>86.300003</td>\n",
              "      <td>81.000000</td>\n",
              "      <td>81.000000</td>\n",
              "      <td>84.000000</td>\n",
              "      <td>18324649.0</td>\n",
              "      <td>84.000000</td>\n",
              "      <td>0.059269</td>\n",
              "      <td>0.057579</td>\n",
              "    </tr>\n",
              "    <tr>\n",
              "      <th>2018-01-05</th>\n",
              "      <td>86.000000</td>\n",
              "      <td>83.750000</td>\n",
              "      <td>84.699997</td>\n",
              "      <td>85.599998</td>\n",
              "      <td>11143691.0</td>\n",
              "      <td>85.599998</td>\n",
              "      <td>0.019048</td>\n",
              "      <td>0.018868</td>\n",
              "    </tr>\n",
              "    <tr>\n",
              "      <th>2018-01-08</th>\n",
              "      <td>90.300003</td>\n",
              "      <td>86.000000</td>\n",
              "      <td>86.800003</td>\n",
              "      <td>89.000000</td>\n",
              "      <td>15606715.0</td>\n",
              "      <td>89.000000</td>\n",
              "      <td>0.039720</td>\n",
              "      <td>0.038951</td>\n",
              "    </tr>\n",
              "    <tr>\n",
              "      <th>...</th>\n",
              "      <th>...</th>\n",
              "      <td>...</td>\n",
              "      <td>...</td>\n",
              "      <td>...</td>\n",
              "      <td>...</td>\n",
              "      <td>...</td>\n",
              "      <td>...</td>\n",
              "      <td>...</td>\n",
              "      <td>...</td>\n",
              "    </tr>\n",
              "    <tr>\n",
              "      <th rowspan=\"5\" valign=\"top\">FTSE</th>\n",
              "      <th>2020-08-03</th>\n",
              "      <td>66.029999</td>\n",
              "      <td>64.500000</td>\n",
              "      <td>64.699997</td>\n",
              "      <td>66.029999</td>\n",
              "      <td>495.0</td>\n",
              "      <td>66.029999</td>\n",
              "      <td>0.020241</td>\n",
              "      <td>0.020039</td>\n",
              "    </tr>\n",
              "    <tr>\n",
              "      <th>2020-08-04</th>\n",
              "      <td>66.269997</td>\n",
              "      <td>65.910004</td>\n",
              "      <td>66.269997</td>\n",
              "      <td>66.010002</td>\n",
              "      <td>518.0</td>\n",
              "      <td>66.010002</td>\n",
              "      <td>-0.000303</td>\n",
              "      <td>-0.000303</td>\n",
              "    </tr>\n",
              "    <tr>\n",
              "      <th>2020-08-05</th>\n",
              "      <td>66.550003</td>\n",
              "      <td>66.430000</td>\n",
              "      <td>66.430000</td>\n",
              "      <td>66.430000</td>\n",
              "      <td>38.0</td>\n",
              "      <td>66.430000</td>\n",
              "      <td>0.006363</td>\n",
              "      <td>0.006342</td>\n",
              "    </tr>\n",
              "    <tr>\n",
              "      <th>2020-08-06</th>\n",
              "      <td>66.000000</td>\n",
              "      <td>65.870003</td>\n",
              "      <td>65.970001</td>\n",
              "      <td>65.949997</td>\n",
              "      <td>56.0</td>\n",
              "      <td>65.949997</td>\n",
              "      <td>-0.007226</td>\n",
              "      <td>-0.007252</td>\n",
              "    </tr>\n",
              "    <tr>\n",
              "      <th>2020-08-07</th>\n",
              "      <td>66.070000</td>\n",
              "      <td>65.559998</td>\n",
              "      <td>66.070000</td>\n",
              "      <td>65.919998</td>\n",
              "      <td>1005.0</td>\n",
              "      <td>65.919998</td>\n",
              "      <td>-0.000455</td>\n",
              "      <td>-0.000455</td>\n",
              "    </tr>\n",
              "  </tbody>\n",
              "</table>\n",
              "<p>1308 rows × 8 columns</p>\n",
              "</div>"
            ],
            "text/plain": [
              "                        High        Low  ...  % change  log change\n",
              "Ticker Date                              ...                      \n",
              "Oil    2018-01-02  78.500000  76.349998  ...       NaN         NaN\n",
              "       2018-01-03  80.550003  76.599998  ...  0.037958    0.037255\n",
              "       2018-01-04  86.300003  81.000000  ...  0.059269    0.057579\n",
              "       2018-01-05  86.000000  83.750000  ...  0.019048    0.018868\n",
              "       2018-01-08  90.300003  86.000000  ...  0.039720    0.038951\n",
              "...                      ...        ...  ...       ...         ...\n",
              "FTSE   2020-08-03  66.029999  64.500000  ...  0.020241    0.020039\n",
              "       2020-08-04  66.269997  65.910004  ... -0.000303   -0.000303\n",
              "       2020-08-05  66.550003  66.430000  ...  0.006363    0.006342\n",
              "       2020-08-06  66.000000  65.870003  ... -0.007226   -0.007252\n",
              "       2020-08-07  66.070000  65.559998  ... -0.000455   -0.000455\n",
              "\n",
              "[1308 rows x 8 columns]"
            ]
          },
          "metadata": {
            "tags": []
          },
          "execution_count": 66
        }
      ]
    },
    {
      "cell_type": "code",
      "metadata": {
        "id": "TZMwtPl6fwE0",
        "colab_type": "code",
        "colab": {
          "base_uri": "https://localhost:8080/",
          "height": 434
        },
        "outputId": "47f60db8-718b-4bf7-8a78-d16af7a423dc"
      },
      "source": [
        "portfolio = portfolio[['Adj Close']].reset_index().pivot(index = 'Date', columns = 'Ticker', values = 'Adj Close')\n",
        "portfolio"
      ],
      "execution_count": null,
      "outputs": [
        {
          "output_type": "execute_result",
          "data": {
            "text/html": [
              "<div>\n",
              "<style scoped>\n",
              "    .dataframe tbody tr th:only-of-type {\n",
              "        vertical-align: middle;\n",
              "    }\n",
              "\n",
              "    .dataframe tbody tr th {\n",
              "        vertical-align: top;\n",
              "    }\n",
              "\n",
              "    .dataframe thead th {\n",
              "        text-align: right;\n",
              "    }\n",
              "</style>\n",
              "<table border=\"1\" class=\"dataframe\">\n",
              "  <thead>\n",
              "    <tr style=\"text-align: right;\">\n",
              "      <th>Ticker</th>\n",
              "      <th>FTSE</th>\n",
              "      <th>Oil</th>\n",
              "    </tr>\n",
              "    <tr>\n",
              "      <th>Date</th>\n",
              "      <th></th>\n",
              "      <th></th>\n",
              "    </tr>\n",
              "  </thead>\n",
              "  <tbody>\n",
              "    <tr>\n",
              "      <th>2018-01-02</th>\n",
              "      <td>86.550003</td>\n",
              "      <td>76.400002</td>\n",
              "    </tr>\n",
              "    <tr>\n",
              "      <th>2018-01-03</th>\n",
              "      <td>86.519997</td>\n",
              "      <td>79.300003</td>\n",
              "    </tr>\n",
              "    <tr>\n",
              "      <th>2018-01-04</th>\n",
              "      <td>86.620003</td>\n",
              "      <td>84.000000</td>\n",
              "    </tr>\n",
              "    <tr>\n",
              "      <th>2018-01-05</th>\n",
              "      <td>87.300003</td>\n",
              "      <td>85.599998</td>\n",
              "    </tr>\n",
              "    <tr>\n",
              "      <th>2018-01-08</th>\n",
              "      <td>87.470001</td>\n",
              "      <td>89.000000</td>\n",
              "    </tr>\n",
              "    <tr>\n",
              "      <th>...</th>\n",
              "      <td>...</td>\n",
              "      <td>...</td>\n",
              "    </tr>\n",
              "    <tr>\n",
              "      <th>2020-08-03</th>\n",
              "      <td>66.029999</td>\n",
              "      <td>34.910000</td>\n",
              "    </tr>\n",
              "    <tr>\n",
              "      <th>2020-08-04</th>\n",
              "      <td>66.010002</td>\n",
              "      <td>35.450001</td>\n",
              "    </tr>\n",
              "    <tr>\n",
              "      <th>2020-08-05</th>\n",
              "      <td>66.430000</td>\n",
              "      <td>36.799999</td>\n",
              "    </tr>\n",
              "    <tr>\n",
              "      <th>2020-08-06</th>\n",
              "      <td>65.949997</td>\n",
              "      <td>35.639999</td>\n",
              "    </tr>\n",
              "    <tr>\n",
              "      <th>2020-08-07</th>\n",
              "      <td>65.919998</td>\n",
              "      <td>34.660000</td>\n",
              "    </tr>\n",
              "  </tbody>\n",
              "</table>\n",
              "<p>668 rows × 2 columns</p>\n",
              "</div>"
            ],
            "text/plain": [
              "Ticker           FTSE        Oil\n",
              "Date                            \n",
              "2018-01-02  86.550003  76.400002\n",
              "2018-01-03  86.519997  79.300003\n",
              "2018-01-04  86.620003  84.000000\n",
              "2018-01-05  87.300003  85.599998\n",
              "2018-01-08  87.470001  89.000000\n",
              "...               ...        ...\n",
              "2020-08-03  66.029999  34.910000\n",
              "2020-08-04  66.010002  35.450001\n",
              "2020-08-05  66.430000  36.799999\n",
              "2020-08-06  65.949997  35.639999\n",
              "2020-08-07  65.919998  34.660000\n",
              "\n",
              "[668 rows x 2 columns]"
            ]
          },
          "metadata": {
            "tags": []
          },
          "execution_count": 67
        }
      ]
    },
    {
      "cell_type": "code",
      "metadata": {
        "id": "Jye1nlaUgkn_",
        "colab_type": "code",
        "colab": {
          "base_uri": "https://localhost:8080/",
          "height": 331
        },
        "outputId": "aec4f449-4b03-4c30-8632-195eb39d13c9"
      },
      "source": [
        "portfolio.pct_change().hist(bins=100)"
      ],
      "execution_count": null,
      "outputs": [
        {
          "output_type": "execute_result",
          "data": {
            "text/plain": [
              "array([[<matplotlib.axes._subplots.AxesSubplot object at 0x7f070497d550>,\n",
              "        <matplotlib.axes._subplots.AxesSubplot object at 0x7f07049945c0>]],\n",
              "      dtype=object)"
            ]
          },
          "metadata": {
            "tags": []
          },
          "execution_count": 68
        },
        {
          "output_type": "display_data",
          "data": {
            "image/png": "[encoded data removed]",
            "text/plain": [
              "<Figure size 432x288 with 2 Axes>"
            ]
          },
          "metadata": {
            "tags": [],
            "needs_background": "light"
          }
        }
      ]
    },
    {
      "cell_type": "markdown",
      "metadata": {
        "id": "P5u6Imfq1fHe",
        "colab_type": "text"
      },
      "source": [
        "Combining tables of two different stocks (Premier Oil and FTSE) and presenting it on a plot."
      ]
    },
    {
      "cell_type": "code",
      "metadata": {
        "id": "a5FXWQfMg6mx",
        "colab_type": "code",
        "colab": {
          "base_uri": "https://localhost:8080/",
          "height": 294
        },
        "outputId": "a7b926ae-c648-45ac-b541-72cfbf0e250f"
      },
      "source": [
        "(1+portfolio.pct_change()).cumprod().fillna(1).plot()"
      ],
      "execution_count": null,
      "outputs": [
        {
          "output_type": "execute_result",
          "data": {
            "text/plain": [
              "<matplotlib.axes._subplots.AxesSubplot at 0x7f07046cbe48>"
            ]
          },
          "metadata": {
            "tags": []
          },
          "execution_count": 75
        },
        {
          "output_type": "display_data",
          "data": {
            "image/png": "[encoded data removed]",
            "text/plain": [
              "<Figure size 432x288 with 1 Axes>"
            ]
          },
          "metadata": {
            "tags": [],
            "needs_background": "light"
          }
        }
      ]
    },
    {
      "cell_type": "code",
      "metadata": {
        "id": "5_w_twdIkBNU",
        "colab_type": "code",
        "colab": {}
      },
      "source": [
        "df['42 mean']=df['Adj Close'].rolling(window=42).mean()\n",
        "df['252 mean']=df['Adj Close'].rolling(window=252).mean()"
      ],
      "execution_count": null,
      "outputs": []
    },
    {
      "cell_type": "code",
      "metadata": {
        "id": "wehWyl8ZkTw-",
        "colab_type": "code",
        "colab": {
          "base_uri": "https://localhost:8080/",
          "height": 434
        },
        "outputId": "c92dff9f-3814-4219-e21f-ef18acec1285"
      },
      "source": [
        "df"
      ],
      "execution_count": null,
      "outputs": [
        {
          "output_type": "execute_result",
          "data": {
            "text/html": [
              "<div>\n",
              "<style scoped>\n",
              "    .dataframe tbody tr th:only-of-type {\n",
              "        vertical-align: middle;\n",
              "    }\n",
              "\n",
              "    .dataframe tbody tr th {\n",
              "        vertical-align: top;\n",
              "    }\n",
              "\n",
              "    .dataframe thead th {\n",
              "        text-align: right;\n",
              "    }\n",
              "</style>\n",
              "<table border=\"1\" class=\"dataframe\">\n",
              "  <thead>\n",
              "    <tr style=\"text-align: right;\">\n",
              "      <th></th>\n",
              "      <th>High</th>\n",
              "      <th>Low</th>\n",
              "      <th>Open</th>\n",
              "      <th>Close</th>\n",
              "      <th>Volume</th>\n",
              "      <th>Adj Close</th>\n",
              "      <th>% change</th>\n",
              "      <th>log change</th>\n",
              "      <th>42 mean</th>\n",
              "      <th>252 mean</th>\n",
              "    </tr>\n",
              "    <tr>\n",
              "      <th>Date</th>\n",
              "      <th></th>\n",
              "      <th></th>\n",
              "      <th></th>\n",
              "      <th></th>\n",
              "      <th></th>\n",
              "      <th></th>\n",
              "      <th></th>\n",
              "      <th></th>\n",
              "      <th></th>\n",
              "      <th></th>\n",
              "    </tr>\n",
              "  </thead>\n",
              "  <tbody>\n",
              "    <tr>\n",
              "      <th>2018-01-02</th>\n",
              "      <td>78.500000</td>\n",
              "      <td>76.349998</td>\n",
              "      <td>78.500000</td>\n",
              "      <td>76.400002</td>\n",
              "      <td>8300547.0</td>\n",
              "      <td>76.400002</td>\n",
              "      <td>NaN</td>\n",
              "      <td>NaN</td>\n",
              "      <td>NaN</td>\n",
              "      <td>NaN</td>\n",
              "    </tr>\n",
              "    <tr>\n",
              "      <th>2018-01-03</th>\n",
              "      <td>80.550003</td>\n",
              "      <td>76.599998</td>\n",
              "      <td>77.000000</td>\n",
              "      <td>79.300003</td>\n",
              "      <td>7362842.0</td>\n",
              "      <td>79.300003</td>\n",
              "      <td>0.037958</td>\n",
              "      <td>0.037255</td>\n",
              "      <td>NaN</td>\n",
              "      <td>NaN</td>\n",
              "    </tr>\n",
              "    <tr>\n",
              "      <th>2018-01-04</th>\n",
              "      <td>86.300003</td>\n",
              "      <td>81.000000</td>\n",
              "      <td>81.000000</td>\n",
              "      <td>84.000000</td>\n",
              "      <td>18324649.0</td>\n",
              "      <td>84.000000</td>\n",
              "      <td>0.059269</td>\n",
              "      <td>0.057579</td>\n",
              "      <td>NaN</td>\n",
              "      <td>NaN</td>\n",
              "    </tr>\n",
              "    <tr>\n",
              "      <th>2018-01-05</th>\n",
              "      <td>86.000000</td>\n",
              "      <td>83.750000</td>\n",
              "      <td>84.699997</td>\n",
              "      <td>85.599998</td>\n",
              "      <td>11143691.0</td>\n",
              "      <td>85.599998</td>\n",
              "      <td>0.019048</td>\n",
              "      <td>0.018868</td>\n",
              "      <td>NaN</td>\n",
              "      <td>NaN</td>\n",
              "    </tr>\n",
              "    <tr>\n",
              "      <th>2018-01-08</th>\n",
              "      <td>90.300003</td>\n",
              "      <td>86.000000</td>\n",
              "      <td>86.800003</td>\n",
              "      <td>89.000000</td>\n",
              "      <td>15606715.0</td>\n",
              "      <td>89.000000</td>\n",
              "      <td>0.039720</td>\n",
              "      <td>0.038951</td>\n",
              "      <td>NaN</td>\n",
              "      <td>NaN</td>\n",
              "    </tr>\n",
              "    <tr>\n",
              "      <th>...</th>\n",
              "      <td>...</td>\n",
              "      <td>...</td>\n",
              "      <td>...</td>\n",
              "      <td>...</td>\n",
              "      <td>...</td>\n",
              "      <td>...</td>\n",
              "      <td>...</td>\n",
              "      <td>...</td>\n",
              "      <td>...</td>\n",
              "      <td>...</td>\n",
              "    </tr>\n",
              "    <tr>\n",
              "      <th>2020-08-03</th>\n",
              "      <td>35.601002</td>\n",
              "      <td>34.020000</td>\n",
              "      <td>35.380001</td>\n",
              "      <td>34.910000</td>\n",
              "      <td>6493251.0</td>\n",
              "      <td>34.910000</td>\n",
              "      <td>-0.011328</td>\n",
              "      <td>-0.011393</td>\n",
              "      <td>44.294048</td>\n",
              "      <td>66.534524</td>\n",
              "    </tr>\n",
              "    <tr>\n",
              "      <th>2020-08-04</th>\n",
              "      <td>35.980000</td>\n",
              "      <td>34.279999</td>\n",
              "      <td>35.000000</td>\n",
              "      <td>35.450001</td>\n",
              "      <td>5905438.0</td>\n",
              "      <td>35.450001</td>\n",
              "      <td>0.015468</td>\n",
              "      <td>0.015350</td>\n",
              "      <td>44.380952</td>\n",
              "      <td>66.394405</td>\n",
              "    </tr>\n",
              "    <tr>\n",
              "      <th>2020-08-05</th>\n",
              "      <td>37.169998</td>\n",
              "      <td>35.629002</td>\n",
              "      <td>35.900002</td>\n",
              "      <td>36.799999</td>\n",
              "      <td>8647149.0</td>\n",
              "      <td>36.799999</td>\n",
              "      <td>0.038082</td>\n",
              "      <td>0.037375</td>\n",
              "      <td>44.309048</td>\n",
              "      <td>66.255754</td>\n",
              "    </tr>\n",
              "    <tr>\n",
              "      <th>2020-08-06</th>\n",
              "      <td>37.490002</td>\n",
              "      <td>35.000000</td>\n",
              "      <td>36.799999</td>\n",
              "      <td>35.639999</td>\n",
              "      <td>7652404.0</td>\n",
              "      <td>35.639999</td>\n",
              "      <td>-0.031522</td>\n",
              "      <td>-0.032029</td>\n",
              "      <td>44.074524</td>\n",
              "      <td>66.123929</td>\n",
              "    </tr>\n",
              "    <tr>\n",
              "      <th>2020-08-07</th>\n",
              "      <td>35.980000</td>\n",
              "      <td>34.450001</td>\n",
              "      <td>35.000000</td>\n",
              "      <td>34.660000</td>\n",
              "      <td>4808544.0</td>\n",
              "      <td>34.660000</td>\n",
              "      <td>-0.027497</td>\n",
              "      <td>-0.027882</td>\n",
              "      <td>43.790476</td>\n",
              "      <td>65.977579</td>\n",
              "    </tr>\n",
              "  </tbody>\n",
              "</table>\n",
              "<p>658 rows × 10 columns</p>\n",
              "</div>"
            ],
            "text/plain": [
              "                 High        Low       Open  ...  log change    42 mean   252 mean\n",
              "Date                                         ...                                  \n",
              "2018-01-02  78.500000  76.349998  78.500000  ...         NaN        NaN        NaN\n",
              "2018-01-03  80.550003  76.599998  77.000000  ...    0.037255        NaN        NaN\n",
              "2018-01-04  86.300003  81.000000  81.000000  ...    0.057579        NaN        NaN\n",
              "2018-01-05  86.000000  83.750000  84.699997  ...    0.018868        NaN        NaN\n",
              "2018-01-08  90.300003  86.000000  86.800003  ...    0.038951        NaN        NaN\n",
              "...               ...        ...        ...  ...         ...        ...        ...\n",
              "2020-08-03  35.601002  34.020000  35.380001  ...   -0.011393  44.294048  66.534524\n",
              "2020-08-04  35.980000  34.279999  35.000000  ...    0.015350  44.380952  66.394405\n",
              "2020-08-05  37.169998  35.629002  35.900002  ...    0.037375  44.309048  66.255754\n",
              "2020-08-06  37.490002  35.000000  36.799999  ...   -0.032029  44.074524  66.123929\n",
              "2020-08-07  35.980000  34.450001  35.000000  ...   -0.027882  43.790476  65.977579\n",
              "\n",
              "[658 rows x 10 columns]"
            ]
          },
          "metadata": {
            "tags": []
          },
          "execution_count": 77
        }
      ]
    },
    {
      "cell_type": "code",
      "metadata": {
        "id": "RTaCqXDpkVu5",
        "colab_type": "code",
        "colab": {
          "base_uri": "https://localhost:8080/",
          "height": 294
        },
        "outputId": "4250b4c6-5360-4678-916a-e10fb9967bbd"
      },
      "source": [
        "df[['Adj Close', '42 mean', '252 mean']].plot()"
      ],
      "execution_count": null,
      "outputs": [
        {
          "output_type": "execute_result",
          "data": {
            "text/plain": [
              "<matplotlib.axes._subplots.AxesSubplot at 0x7f07046a8198>"
            ]
          },
          "metadata": {
            "tags": []
          },
          "execution_count": 78
        },
        {
          "output_type": "display_data",
          "data": {
            "image/png": "[encoded data removed]",
            "text/plain": [
              "<Figure size 432x288 with 1 Axes>"
            ]
          },
          "metadata": {
            "tags": [],
            "needs_background": "light"
          }
        }
      ]
    },
    {
      "cell_type": "code",
      "metadata": {
        "id": "QUF-MiJnkg8P",
        "colab_type": "code",
        "colab": {}
      },
      "source": [
        "def make_portfolio(stocks,start,end):\n",
        "  def get_data(stock):\n",
        "    return pdr.get_data_yahoo(stock, start=start, end=end)\n",
        "\n",
        "  stocks_data = map(get_data, stocks)\n",
        "\n",
        "  all_stocks = pd.concat(stocks_data, keys=stocks, names = ['Stock', 'Date' ])  \n",
        "\n",
        "  return all_stocks[['Adj Close']].reset_index().pivot(index='Date', columns='Stock', values='Adj Close')"
      ],
      "execution_count": null,
      "outputs": []
    },
    {
      "cell_type": "code",
      "metadata": {
        "id": "poW9ZPvTl7iw",
        "colab_type": "code",
        "colab": {}
      },
      "source": [
        "stocks = ['BYND', 'KO', 'CCH.L', 'BP', 'BCS', 'PMO.L', 'CRUD.L', 'RYAAY', 'UKX.PA']"
      ],
      "execution_count": null,
      "outputs": []
    },
    {
      "cell_type": "code",
      "metadata": {
        "id": "eoM4YjOnnLva",
        "colab_type": "code",
        "colab": {}
      },
      "source": [
        "portfolio = make_portfolio(stocks=stocks, start=dt.datetime(2020,1,1), end=dt.datetime(2020,9,4))"
      ],
      "execution_count": null,
      "outputs": []
    },
    {
      "cell_type": "code",
      "metadata": {
        "id": "DTUoPGy0pk9Z",
        "colab_type": "code",
        "colab": {}
      },
      "source": [
        "def comparison(portfolio, benchmark):\n",
        "  benchmark_color = {benchmark: 'red'}\n",
        "\n",
        "  return (1+portfolio.pct_change()).cumprod().fillna(1).plot(color=[benchmark_color.get(x,np.random.rand(3)) for x in portfolio.columns])"
      ],
      "execution_count": null,
      "outputs": []
    },
    {
      "cell_type": "markdown",
      "metadata": {
        "id": "IW-0cITN1tyN",
        "colab_type": "text"
      },
      "source": [
        "Comparsison of current portfolio."
      ]
    },
    {
      "cell_type": "code",
      "metadata": {
        "id": "3Egwrt5wp0M7",
        "colab_type": "code",
        "colab": {
          "base_uri": "https://localhost:8080/",
          "height": 294
        },
        "outputId": "7ec812f2-a020-4d4b-8524-a1e36f5c687d"
      },
      "source": [
        "comparison(portfolio=portfolio, benchmark='UKX.PA')"
      ],
      "execution_count": null,
      "outputs": [
        {
          "output_type": "execute_result",
          "data": {
            "text/plain": [
              "<matplotlib.axes._subplots.AxesSubplot at 0x7f0703b3ff98>"
            ]
          },
          "metadata": {
            "tags": []
          },
          "execution_count": 129
        },
        {
          "output_type": "display_data",
          "data": {
            "image/png": "[encoded data removed]",
            "text/plain": [
              "<Figure size 432x288 with 1 Axes>"
            ]
          },
          "metadata": {
            "tags": [],
            "needs_background": "light"
          }
        }
      ]
    },
    {
      "cell_type": "code",
      "metadata": {
        "id": "hipO2sc1rdnr",
        "colab_type": "code",
        "colab": {
          "base_uri": "https://localhost:8080/",
          "height": 345
        },
        "outputId": "3eda65d3-0347-48a3-c557-e2cd81f8fb0d"
      },
      "source": [
        "portfolio.pct_change().corr().round(2)"
      ],
      "execution_count": null,
      "outputs": [
        {
          "output_type": "execute_result",
          "data": {
            "text/html": [
              "<div>\n",
              "<style scoped>\n",
              "    .dataframe tbody tr th:only-of-type {\n",
              "        vertical-align: middle;\n",
              "    }\n",
              "\n",
              "    .dataframe tbody tr th {\n",
              "        vertical-align: top;\n",
              "    }\n",
              "\n",
              "    .dataframe thead th {\n",
              "        text-align: right;\n",
              "    }\n",
              "</style>\n",
              "<table border=\"1\" class=\"dataframe\">\n",
              "  <thead>\n",
              "    <tr style=\"text-align: right;\">\n",
              "      <th>Stock</th>\n",
              "      <th>BCS</th>\n",
              "      <th>BP</th>\n",
              "      <th>BYND</th>\n",
              "      <th>CCH.L</th>\n",
              "      <th>CRUD.L</th>\n",
              "      <th>KO</th>\n",
              "      <th>PMO.L</th>\n",
              "      <th>RYAAY</th>\n",
              "      <th>UKX.PA</th>\n",
              "    </tr>\n",
              "    <tr>\n",
              "      <th>Stock</th>\n",
              "      <th></th>\n",
              "      <th></th>\n",
              "      <th></th>\n",
              "      <th></th>\n",
              "      <th></th>\n",
              "      <th></th>\n",
              "      <th></th>\n",
              "      <th></th>\n",
              "      <th></th>\n",
              "    </tr>\n",
              "  </thead>\n",
              "  <tbody>\n",
              "    <tr>\n",
              "      <th>BCS</th>\n",
              "      <td>1.00</td>\n",
              "      <td>0.72</td>\n",
              "      <td>0.32</td>\n",
              "      <td>0.68</td>\n",
              "      <td>0.36</td>\n",
              "      <td>0.66</td>\n",
              "      <td>0.50</td>\n",
              "      <td>0.74</td>\n",
              "      <td>0.55</td>\n",
              "    </tr>\n",
              "    <tr>\n",
              "      <th>BP</th>\n",
              "      <td>0.72</td>\n",
              "      <td>1.00</td>\n",
              "      <td>0.37</td>\n",
              "      <td>0.58</td>\n",
              "      <td>0.35</td>\n",
              "      <td>0.61</td>\n",
              "      <td>0.51</td>\n",
              "      <td>0.61</td>\n",
              "      <td>0.47</td>\n",
              "    </tr>\n",
              "    <tr>\n",
              "      <th>BYND</th>\n",
              "      <td>0.32</td>\n",
              "      <td>0.37</td>\n",
              "      <td>1.00</td>\n",
              "      <td>0.31</td>\n",
              "      <td>0.11</td>\n",
              "      <td>0.26</td>\n",
              "      <td>0.29</td>\n",
              "      <td>0.29</td>\n",
              "      <td>0.19</td>\n",
              "    </tr>\n",
              "    <tr>\n",
              "      <th>CCH.L</th>\n",
              "      <td>0.68</td>\n",
              "      <td>0.58</td>\n",
              "      <td>0.31</td>\n",
              "      <td>1.00</td>\n",
              "      <td>0.31</td>\n",
              "      <td>0.45</td>\n",
              "      <td>0.55</td>\n",
              "      <td>0.55</td>\n",
              "      <td>0.59</td>\n",
              "    </tr>\n",
              "    <tr>\n",
              "      <th>CRUD.L</th>\n",
              "      <td>0.36</td>\n",
              "      <td>0.35</td>\n",
              "      <td>0.11</td>\n",
              "      <td>0.31</td>\n",
              "      <td>1.00</td>\n",
              "      <td>0.18</td>\n",
              "      <td>0.43</td>\n",
              "      <td>0.30</td>\n",
              "      <td>0.45</td>\n",
              "    </tr>\n",
              "    <tr>\n",
              "      <th>KO</th>\n",
              "      <td>0.66</td>\n",
              "      <td>0.61</td>\n",
              "      <td>0.26</td>\n",
              "      <td>0.45</td>\n",
              "      <td>0.18</td>\n",
              "      <td>1.00</td>\n",
              "      <td>0.37</td>\n",
              "      <td>0.51</td>\n",
              "      <td>0.39</td>\n",
              "    </tr>\n",
              "    <tr>\n",
              "      <th>PMO.L</th>\n",
              "      <td>0.50</td>\n",
              "      <td>0.51</td>\n",
              "      <td>0.29</td>\n",
              "      <td>0.55</td>\n",
              "      <td>0.43</td>\n",
              "      <td>0.37</td>\n",
              "      <td>1.00</td>\n",
              "      <td>0.26</td>\n",
              "      <td>0.51</td>\n",
              "    </tr>\n",
              "    <tr>\n",
              "      <th>RYAAY</th>\n",
              "      <td>0.74</td>\n",
              "      <td>0.61</td>\n",
              "      <td>0.29</td>\n",
              "      <td>0.55</td>\n",
              "      <td>0.30</td>\n",
              "      <td>0.51</td>\n",
              "      <td>0.26</td>\n",
              "      <td>1.00</td>\n",
              "      <td>0.33</td>\n",
              "    </tr>\n",
              "    <tr>\n",
              "      <th>UKX.PA</th>\n",
              "      <td>0.55</td>\n",
              "      <td>0.47</td>\n",
              "      <td>0.19</td>\n",
              "      <td>0.59</td>\n",
              "      <td>0.45</td>\n",
              "      <td>0.39</td>\n",
              "      <td>0.51</td>\n",
              "      <td>0.33</td>\n",
              "      <td>1.00</td>\n",
              "    </tr>\n",
              "  </tbody>\n",
              "</table>\n",
              "</div>"
            ],
            "text/plain": [
              "Stock    BCS    BP  BYND  CCH.L  CRUD.L    KO  PMO.L  RYAAY  UKX.PA\n",
              "Stock                                                              \n",
              "BCS     1.00  0.72  0.32   0.68    0.36  0.66   0.50   0.74    0.55\n",
              "BP      0.72  1.00  0.37   0.58    0.35  0.61   0.51   0.61    0.47\n",
              "BYND    0.32  0.37  1.00   0.31    0.11  0.26   0.29   0.29    0.19\n",
              "CCH.L   0.68  0.58  0.31   1.00    0.31  0.45   0.55   0.55    0.59\n",
              "CRUD.L  0.36  0.35  0.11   0.31    1.00  0.18   0.43   0.30    0.45\n",
              "KO      0.66  0.61  0.26   0.45    0.18  1.00   0.37   0.51    0.39\n",
              "PMO.L   0.50  0.51  0.29   0.55    0.43  0.37   1.00   0.26    0.51\n",
              "RYAAY   0.74  0.61  0.29   0.55    0.30  0.51   0.26   1.00    0.33\n",
              "UKX.PA  0.55  0.47  0.19   0.59    0.45  0.39   0.51   0.33    1.00"
            ]
          },
          "metadata": {
            "tags": []
          },
          "execution_count": 131
        }
      ]
    },
    {
      "cell_type": "markdown",
      "metadata": {
        "id": "UJPzdxAI10bm",
        "colab_type": "text"
      },
      "source": [
        "Heatmap for current portfolio."
      ]
    },
    {
      "cell_type": "code",
      "metadata": {
        "id": "5_XDRaQTrwxF",
        "colab_type": "code",
        "colab": {
          "base_uri": "https://localhost:8080/",
          "height": 328
        },
        "outputId": "7e595865-29d2-4372-f44d-a8d08b5a7ccb"
      },
      "source": [
        "sns.heatmap(portfolio.pct_change().corr().round(2))"
      ],
      "execution_count": null,
      "outputs": [
        {
          "output_type": "execute_result",
          "data": {
            "text/plain": [
              "<matplotlib.axes._subplots.AxesSubplot at 0x7f06f9b4a198>"
            ]
          },
          "metadata": {
            "tags": []
          },
          "execution_count": 132
        },
        {
          "output_type": "display_data",
          "data": {
            "image/png": "[encoded data removed]",
            "text/plain": [
              "<Figure size 432x288 with 2 Axes>"
            ]
          },
          "metadata": {
            "tags": [],
            "needs_background": "light"
          }
        }
      ]
    }
  ]
}